version https://git-lfs.github.com/spec/v1
oid sha256:b004181d590732c07fac7218737f3acfbc827a530ad05ca5149ae859c8abd13a
size 503304
